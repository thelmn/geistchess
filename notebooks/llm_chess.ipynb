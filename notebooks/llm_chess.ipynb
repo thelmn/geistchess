{
 "cells": [
  {
   "cell_type": "code",
   "execution_count": 1,
   "metadata": {},
   "outputs": [],
   "source": [
    "# How good are Small LLMs at chess gameplay?\n",
    "# Can they explain their reasoning?\n",
    "# Does finetuning make them better?\n",
    "# Do reasoning (e.g. chain-of-thought) techniques improve their performance?\n",
    "# Can they be finetuned via RL selfplay?"
   ]
  },
  {
   "cell_type": "markdown",
   "metadata": {},
   "source": [
    "#### Part 1: Eval off-the-shelf LLMs on chess gameplay\n",
    "\n",
    "Use huggingface LLM api and python-chess and stockfish api to evaluate LLMs on chess gameplay."
   ]
  },
  {
   "cell_type": "code",
   "execution_count": 2,
   "metadata": {},
   "outputs": [],
   "source": [
    "# install python-chess and stockfish if not already installed"
   ]
  },
  {
   "cell_type": "code",
   "execution_count": 3,
   "metadata": {},
   "outputs": [],
   "source": [
    "try:\n",
    "  from stockfish import Stockfish\n",
    "except ImportError:\n",
    "  !pip install stockfish\n",
    "  from stockfish import Stockfish\n",
    "\n",
    "try:\n",
    "  import chess\n",
    "except ImportError:\n",
    "  !pip install python-chess\n",
    "  import chess"
   ]
  },
  {
   "cell_type": "code",
   "execution_count": 4,
   "metadata": {},
   "outputs": [],
   "source": [
    "import os"
   ]
  },
  {
   "cell_type": "code",
   "execution_count": 5,
   "metadata": {},
   "outputs": [],
   "source": [
    "STOCKFISH_REMOTE = \"https://github.com/official-stockfish/Stockfish/releases/latest/download/stockfish-ubuntu-x86-64-avx2.tar\"\n",
    "STOCKFISH_LOCAL = \"./stockfish/stockfish-ubuntu-x86-64-avx2\""
   ]
  },
  {
   "cell_type": "code",
   "execution_count": 6,
   "metadata": {},
   "outputs": [],
   "source": [
    "\n",
    "if not os.path.exists(STOCKFISH_LOCAL):\n",
    "  !wget -O stockfish.tar $STOCKFISH_REMOTE\n",
    "  !tar -xf stockfish.tar\n",
    "  !rm stockfish.tar"
   ]
  },
  {
   "cell_type": "code",
   "execution_count": 7,
   "metadata": {},
   "outputs": [
    {
     "data": {
      "text/plain": [
       "True"
      ]
     },
     "execution_count": 7,
     "metadata": {},
     "output_type": "execute_result"
    }
   ],
   "source": [
    "os.path.exists(STOCKFISH_LOCAL)"
   ]
  },
  {
   "cell_type": "code",
   "execution_count": 8,
   "metadata": {},
   "outputs": [],
   "source": [
    "from stockfish import Stockfish\n",
    "\n",
    "stockfish_params = {\n",
    "    # \"Debug Log File\": \"\",\n",
    "    \"Contempt\": 0,\n",
    "    \"Min Split Depth\": 0,\n",
    "    \"Threads\": 1, # More threads will make the engine stronger, but should be kept at less than the number of logical processors on your computer.\n",
    "    \"Ponder\": \"false\",\n",
    "    \"Hash\": 256, # Default size is 16 MB. It's recommended that you increase this value, but keep it as some power of 2. E.g., if you're fine using 2 GB of RAM, set Hash to 2048 (11th power of 2).\n",
    "    \"MultiPV\": 1,\n",
    "    \"Skill Level\": 20,\n",
    "    \"Move Overhead\": 10,\n",
    "    \"Minimum Thinking Time\": 20,\n",
    "    \"Slow Mover\": 100,\n",
    "    \"UCI_Chess960\": \"false\",\n",
    "    \"UCI_LimitStrength\": \"false\",\n",
    "    \"UCI_Elo\": 1350\n",
    "}\n",
    "\n",
    "stockfish = Stockfish(STOCKFISH_LOCAL, parameters=stockfish_params)"
   ]
  },
  {
   "cell_type": "code",
   "execution_count": 9,
   "metadata": {},
   "outputs": [
    {
     "name": "stdout",
     "output_type": "stream",
     "text": [
      "+---+---+---+---+---+---+---+---+\n",
      "| r | n | b | q | k | b | n | r | 8\n",
      "+---+---+---+---+---+---+---+---+\n",
      "| p | p | p | p | p | p | p | p | 7\n",
      "+---+---+---+---+---+---+---+---+\n",
      "|   |   |   |   |   |   |   |   | 6\n",
      "+---+---+---+---+---+---+---+---+\n",
      "|   |   |   |   |   |   |   |   | 5\n",
      "+---+---+---+---+---+---+---+---+\n",
      "|   |   |   |   |   |   |   |   | 4\n",
      "+---+---+---+---+---+---+---+---+\n",
      "|   |   |   |   |   |   |   |   | 3\n",
      "+---+---+---+---+---+---+---+---+\n",
      "| P | P | P | P | P | P | P | P | 2\n",
      "+---+---+---+---+---+---+---+---+\n",
      "| R | N | B | Q | K | B | N | R | 1\n",
      "+---+---+---+---+---+---+---+---+\n",
      "  a   b   c   d   e   f   g   h\n",
      "\n"
     ]
    },
    {
     "data": {
      "text/plain": [
       "'e2e4'"
      ]
     },
     "execution_count": 9,
     "metadata": {},
     "output_type": "execute_result"
    }
   ],
   "source": [
    "print(stockfish.get_board_visual())\n",
    "stockfish.get_best_move()"
   ]
  },
  {
   "cell_type": "code",
   "execution_count": 10,
   "metadata": {},
   "outputs": [
    {
     "data": {
      "text/plain": [
       "'rnbqkbnr/pppppppp/8/8/8/8/PPPPPPPP/RNBQKBNR w KQkq - 0 1'"
      ]
     },
     "execution_count": 10,
     "metadata": {},
     "output_type": "execute_result"
    }
   ],
   "source": [
    "stockfish.get_fen_position()"
   ]
  },
  {
   "cell_type": "code",
   "execution_count": 20,
   "metadata": {},
   "outputs": [
    {
     "name": "stdout",
     "output_type": "stream",
     "text": [
      "r n b q k b n r\n",
      "p p p p p p p p\n",
      ". . . . . . . .\n",
      ". . . . . . . .\n",
      ". . . . . . . .\n",
      ". . . . . . . .\n",
      "P P P P P P P P\n",
      "R N B Q K B N R\n"
     ]
    }
   ],
   "source": [
    "import chess\n",
    "\n",
    "board = chess.Board()\n",
    "\n",
    "print(board)"
   ]
  },
  {
   "cell_type": "code",
   "execution_count": 21,
   "metadata": {},
   "outputs": [
    {
     "name": "stdout",
     "output_type": "stream",
     "text": [
      "r n b q k b n r\n",
      "p p p p p p p p\n",
      ". . . . . . . .\n",
      ". . . . . . . .\n",
      ". . . . P . . .\n",
      ". . . . . . . .\n",
      "P P P P . P P P\n",
      "R N B Q K B N R\n"
     ]
    }
   ],
   "source": [
    "stockfish.set_fen_position(board.fen(), send_ucinewgame_token=True)\n",
    "best_move = stockfish.get_best_move()\n",
    "board.push_uci(best_move)\n",
    "print(board)"
   ]
  },
  {
   "cell_type": "code",
   "execution_count": 22,
   "metadata": {},
   "outputs": [
    {
     "data": {
      "text/plain": [
       "'e2e4'"
      ]
     },
     "execution_count": 22,
     "metadata": {},
     "output_type": "execute_result"
    }
   ],
   "source": [
    "best_move"
   ]
  },
  {
   "cell_type": "code",
   "execution_count": 17,
   "metadata": {},
   "outputs": [],
   "source": [
    "board.outcome()"
   ]
  },
  {
   "cell_type": "code",
   "execution_count": 11,
   "metadata": {},
   "outputs": [
    {
     "name": "stdout",
     "output_type": "stream",
     "text": [
      "Collecting transformers\n",
      "  Downloading transformers-4.49.0-py3-none-any.whl.metadata (44 kB)\n",
      "\u001b[2K     \u001b[90m━━━━━━━━━━━━━━━━━━━━━━━━━━━━━━━━━━━━━━━\u001b[0m \u001b[32m44.0/44.0 kB\u001b[0m \u001b[31m828.7 kB/s\u001b[0m eta \u001b[36m0:00:00\u001b[0m \u001b[36m0:00:01\u001b[0m\n",
      "\u001b[?25hCollecting filelock (from transformers)\n",
      "  Downloading filelock-3.17.0-py3-none-any.whl.metadata (2.9 kB)\n",
      "Collecting huggingface-hub<1.0,>=0.26.0 (from transformers)\n",
      "  Downloading huggingface_hub-0.29.1-py3-none-any.whl.metadata (13 kB)\n",
      "Requirement already satisfied: numpy>=1.17 in /home/lysonn/.venvs/base/lib/python3.12/site-packages (from transformers) (1.26.4)\n",
      "Requirement already satisfied: packaging>=20.0 in /home/lysonn/.venvs/base/lib/python3.12/site-packages (from transformers) (24.2)\n",
      "Requirement already satisfied: pyyaml>=5.1 in /home/lysonn/.venvs/base/lib/python3.12/site-packages (from transformers) (6.0.2)\n",
      "Collecting regex!=2019.12.17 (from transformers)\n",
      "  Downloading regex-2024.11.6-cp312-cp312-manylinux_2_17_x86_64.manylinux2014_x86_64.whl.metadata (40 kB)\n",
      "\u001b[2K     \u001b[90m━━━━━━━━━━━━━━━━━━━━━━━━━━━━━━━━━━━━━━━━\u001b[0m \u001b[32m40.5/40.5 kB\u001b[0m \u001b[31m2.4 MB/s\u001b[0m eta \u001b[36m0:00:00\u001b[0m\n",
      "\u001b[?25hRequirement already satisfied: requests in /home/lysonn/.venvs/base/lib/python3.12/site-packages (from transformers) (2.32.3)\n",
      "Collecting tokenizers<0.22,>=0.21 (from transformers)\n",
      "  Downloading tokenizers-0.21.0-cp39-abi3-manylinux_2_17_x86_64.manylinux2014_x86_64.whl.metadata (6.7 kB)\n",
      "Collecting safetensors>=0.4.1 (from transformers)\n",
      "  Downloading safetensors-0.5.2-cp38-abi3-manylinux_2_17_x86_64.manylinux2014_x86_64.whl.metadata (3.8 kB)\n",
      "Collecting tqdm>=4.27 (from transformers)\n",
      "  Downloading tqdm-4.67.1-py3-none-any.whl.metadata (57 kB)\n",
      "\u001b[2K     \u001b[90m━━━━━━━━━━━━━━━━━━━━━━━━━━━━━━━━━━━━━━━━\u001b[0m \u001b[32m57.7/57.7 kB\u001b[0m \u001b[31m3.8 MB/s\u001b[0m eta \u001b[36m0:00:00\u001b[0m\n",
      "\u001b[?25hRequirement already satisfied: fsspec>=2023.5.0 in /home/lysonn/.venvs/base/lib/python3.12/site-packages (from huggingface-hub<1.0,>=0.26.0->transformers) (2025.2.0)\n",
      "Requirement already satisfied: typing-extensions>=3.7.4.3 in /home/lysonn/.venvs/base/lib/python3.12/site-packages (from huggingface-hub<1.0,>=0.26.0->transformers) (4.12.2)\n",
      "Requirement already satisfied: charset-normalizer<4,>=2 in /home/lysonn/.venvs/base/lib/python3.12/site-packages (from requests->transformers) (3.4.1)\n",
      "Requirement already satisfied: idna<4,>=2.5 in /home/lysonn/.venvs/base/lib/python3.12/site-packages (from requests->transformers) (3.10)\n",
      "Requirement already satisfied: urllib3<3,>=1.21.1 in /home/lysonn/.venvs/base/lib/python3.12/site-packages (from requests->transformers) (2.3.0)\n",
      "Requirement already satisfied: certifi>=2017.4.17 in /home/lysonn/.venvs/base/lib/python3.12/site-packages (from requests->transformers) (2025.1.31)\n",
      "Downloading transformers-4.49.0-py3-none-any.whl (10.0 MB)\n",
      "\u001b[2K   \u001b[90m━━━━━━━━━━━━━━━━━━━━━━━━━━━━━━━━━━━━━━━━\u001b[0m \u001b[32m10.0/10.0 MB\u001b[0m \u001b[31m42.8 MB/s\u001b[0m eta \u001b[36m0:00:00\u001b[0m00:01\u001b[0m0:01\u001b[0m\n",
      "\u001b[?25hDownloading huggingface_hub-0.29.1-py3-none-any.whl (468 kB)\n",
      "\u001b[2K   \u001b[90m━━━━━━━━━━━━━━━━━━━━━━━━━━━━━━━━━━━━━━━━\u001b[0m \u001b[32m468.0/468.0 kB\u001b[0m \u001b[31m25.7 MB/s\u001b[0m eta \u001b[36m0:00:00\u001b[0m\n",
      "\u001b[?25hDownloading regex-2024.11.6-cp312-cp312-manylinux_2_17_x86_64.manylinux2014_x86_64.whl (796 kB)\n",
      "\u001b[2K   \u001b[90m━━━━━━━━━━━━━━━━━━━━━━━━━━━━━━━━━━━━━━━━\u001b[0m \u001b[32m796.9/796.9 kB\u001b[0m \u001b[31m31.0 MB/s\u001b[0m eta \u001b[36m0:00:00\u001b[0m\n",
      "\u001b[?25hDownloading safetensors-0.5.2-cp38-abi3-manylinux_2_17_x86_64.manylinux2014_x86_64.whl (461 kB)\n",
      "\u001b[2K   \u001b[90m━━━━━━━━━━━━━━━━━━━━━━━━━━━━━━━━━━━━━━━━\u001b[0m \u001b[32m462.0/462.0 kB\u001b[0m \u001b[31m24.7 MB/s\u001b[0m eta \u001b[36m0:00:00\u001b[0m\n",
      "\u001b[?25hDownloading tokenizers-0.21.0-cp39-abi3-manylinux_2_17_x86_64.manylinux2014_x86_64.whl (3.0 MB)\n",
      "\u001b[2K   \u001b[90m━━━━━━━━━━━━━━━━━━━━━━━━━━━━━━━━━━━━━━━━\u001b[0m \u001b[32m3.0/3.0 MB\u001b[0m \u001b[31m53.7 MB/s\u001b[0m eta \u001b[36m0:00:00\u001b[0m:00:01\u001b[0m\n",
      "\u001b[?25hDownloading tqdm-4.67.1-py3-none-any.whl (78 kB)\n",
      "\u001b[2K   \u001b[90m━━━━━━━━━━━━━━━━━━━━━━━━━━━━━━━━━━━━━━━━\u001b[0m \u001b[32m78.5/78.5 kB\u001b[0m \u001b[31m5.5 MB/s\u001b[0m eta \u001b[36m0:00:00\u001b[0m\n",
      "\u001b[?25hDownloading filelock-3.17.0-py3-none-any.whl (16 kB)\n",
      "Installing collected packages: tqdm, safetensors, regex, filelock, huggingface-hub, tokenizers, transformers\n",
      "Successfully installed filelock-3.17.0 huggingface-hub-0.29.1 regex-2024.11.6 safetensors-0.5.2 tokenizers-0.21.0 tqdm-4.67.1 transformers-4.49.0\n"
     ]
    },
    {
     "name": "stderr",
     "output_type": "stream",
     "text": [
      "/home/lysonn/.venvs/base/lib/python3.12/site-packages/tqdm/auto.py:21: TqdmWarning: IProgress not found. Please update jupyter and ipywidgets. See https://ipywidgets.readthedocs.io/en/stable/user_install.html\n",
      "  from .autonotebook import tqdm as notebook_tqdm\n"
     ]
    }
   ],
   "source": [
    "# huggingface AutoModelForCausalLM\n",
    "try:\n",
    "  from transformers import AutoModelForCausalLM, AutoTokenizer\n",
    "except ImportError:\n",
    "  !pip install transformers\n",
    "  from transformers import AutoModelForCausalLM, AutoTokenizer"
   ]
  },
  {
   "cell_type": "code",
   "execution_count": null,
   "metadata": {},
   "outputs": [],
   "source": [
    "MODEL_NAME = \"allenai/OLMo-7B-0724-hf\"  # AllenAI's OLMo-7B model\n",
    "\n",
    "tokenizer = AutoTokenizer.from_pretrained(MODEL_NAME)\n",
    "model = AutoModelForCausalLM.from_pretrained(MODEL_NAME)\n"
   ]
  },
  {
   "cell_type": "code",
   "execution_count": 24,
   "metadata": {},
   "outputs": [
    {
     "name": "stdout",
     "output_type": "stream",
     "text": [
      "You are playing chess. You are white, playing against black. It is your turn. The board is as follows:\n",
      "r n b q k b n r\n",
      "p p p p p p p p\n",
      ". . . . . . . .\n",
      ". . . . . . . .\n",
      ". . . . P . . .\n",
      ". . . . . . . .\n",
      "P P P P . P P P\n",
      "R N B Q K B N R\n",
      "The sequence of moves so far is: []\n",
      "Your move (in UCI notation) is:\n"
     ]
    }
   ],
   "source": [
    "BASE_PROMPT = \"\"\"You are playing chess. You are {llm_color}, playing against {opponent_color}. It is your turn. The board is as follows:\n",
    "{board}\n",
    "The sequence of moves so far is: [{history}]\n",
    "Your next move (in UCI notation) is:\"\"\"\n",
    "print(BASE_PROMPT.format(llm_color=\"white\", opponent_color=\"black\", board=board, moves=\"\"))"
   ]
  },
  {
   "cell_type": "code",
   "execution_count": 33,
   "metadata": {},
   "outputs": [
    {
     "name": "stdout",
     "output_type": "stream",
     "text": [
      "Illegal move: e2e4! Some legal moves are: [c7c6, b7b6, a7a6, h7h5, g7g5, f7f5, e7e5, d7d5, c7c5, b7b5, a7a5]. Try again.\n",
      "Your move (in UCI notation) is:\n"
     ]
    }
   ],
   "source": [
    "# ERROR_MOVE_PROMPT=\"Illegal move: {move}! Try again.\\nYour move (in UCI notation) is:\"\n",
    "ERROR_MOVE_PROMPT=\"\"\"Illegal move: {move}! Some legal moves are: [{legal_moves}]. Try again.\n",
    "Your next move (in UCI notation) is:\"\"\"\n",
    "\n",
    "SHOW_MAX_LEGAL_MOVES = 10\n",
    "print(\n",
    "  ERROR_MOVE_PROMPT.format(move=\"e2e4\", board=board, \n",
    "  legal_moves=', '.join([m.uci() for i, m in enumerate(board.legal_moves) if i >= (SHOW_MAX_LEGAL_MOVES-1)]))\n",
    "  )"
   ]
  },
  {
   "cell_type": "code",
   "execution_count": null,
   "metadata": {},
   "outputs": [],
   "source": [
    "class LLMGame:\n",
    "  def __init__(self, model, tokenizer, stockfish, base_prompt, color='white', stockfish_time_limit=None, \n",
    "               show_legal_moves_limit=10,\n",
    "               llm_illegal_move_retries=3, llm_illegal_move_prompt=ERROR_MOVE_PROMPT):\n",
    "    self.model = model\n",
    "    self.tokenizer = tokenizer\n",
    "    self.stockfish = stockfish\n",
    "    self.board = chess.Board()\n",
    "    self.base_prompt = base_prompt\n",
    "    self.color = color\n",
    "    self.stockfish_time_limit = stockfish_time_limit\n",
    "    self.show_legal_moves_limit = show_legal_moves_limit\n",
    "    self.llm_illegal_move_retries = llm_illegal_move_retries\n",
    "    self.llm_illegal_move_prompt = llm_illegal_move_prompt\n",
    "    self.history = []\n",
    "    self.outcome = None\n",
    "    self.error_outcome = None\n",
    "\n",
    "  def get_prompt(self, error_move=None):\n",
    "    legal_moves = [m.uci() for i, m in enumerate(self.board.legal_moves) if i >= (self.show_legal_moves_limit-1)]\n",
    "    prompt = self.base_prompt.format(\n",
    "        llm_color=self.color,\n",
    "        opponent_color='black' if self.color == 'white' else 'white',\n",
    "        board=self.board,\n",
    "        history=', '.join(self.history),\n",
    "        legal_moves=', '.join(legal_moves)\n",
    "    )\n",
    "    if error_move:\n",
    "      prompt += ('\\n' + self.llm_illegal_move_prompt.format(\n",
    "        move=error_move, \n",
    "        board=self.board,\n",
    "        legal_moves=', '.join(legal_moves)\n",
    "      ))\n",
    "    return prompt\n",
    "  \n",
    "  def make_engine_move(self):\n",
    "    if self.board.is_game_over():\n",
    "      return\n",
    "    self.stockfish.set_fen_position(self.board.fen(), send_ucinewgame_token=True)\n",
    "    if self.stockfish_time_limit:\n",
    "      move = self.stockfish.get_best_move_time(self.stockfish_time_limit)\n",
    "    else:\n",
    "      move = self.stockfish.get_best_move()\n",
    "    self.history.append(move)\n",
    "    self.board.push_uci(move)\n",
    "  \n",
    "  def make_llm_move(self, retries=None):\n",
    "    if self.board.is_game_over():\n",
    "      return\n",
    "    prompt = self.get_prompt()\n",
    "    input_ids = tokenizer(prompt, return_tensors='pt').input_ids\n",
    "    output = model.generate(input_ids, max_length=100)\n",
    "    resp = tokenizer.decode(output[0])\n",
    "    print(resp)\n",
    "    move = resp.split('\\n')[-1].strip()\n",
    "\n",
    "    if retries is None:\n",
    "      retries = self.llm_illegal_move_retries\n",
    "\n",
    "    if move not in self.board.legal_moves:\n",
    "      if retries > 0:\n",
    "        prompt = self.get_prompt(error_move=move)\n",
    "        self.llm_move(retries=retries-1)\n",
    "      raise ValueError(\"Illegal move: {move}\")\n",
    "    \n",
    "    self.history.append(move)\n",
    "    self.board.push_uci(move)\n",
    "\n",
    "  def play(self):\n",
    "    self.board = chess.Board()\n",
    "    self.history = []\n",
    "    self.outcome = None\n",
    "    self.error_outcome = None\n",
    "\n",
    "    if self.color == 'black':\n",
    "      if not self.board.is_game_over():\n",
    "        try:\n",
    "          self.make_engine_move()\n",
    "          self.outcome = self.board.outcome()\n",
    "        except ValueError as e:\n",
    "          print(e)\n",
    "          self.error_outcome = ('Engine', e)\n",
    "          self.outcome = self.board.outcome()  \n",
    "          return\n",
    "\n",
    "    while not self.board.is_game_over():\n",
    "      if not self.board.is_game_over():\n",
    "        try:\n",
    "          self.make_llm_move()\n",
    "          self.outcome = self.board.outcome()\n",
    "        except ValueError as e:\n",
    "          print(e)\n",
    "          self.error_outcome = ('LLM', e)\n",
    "          self.outcome = self.board.outcome()\n",
    "          return\n",
    "      if not self.board.is_game_over():\n",
    "        try:\n",
    "          self.make_engine_move()\n",
    "          self.outcome = self.board.outcome()\n",
    "        except ValueError as e:\n",
    "          print(e)\n",
    "          self.error_outcome = ('Engine', e)\n",
    "          self.outcome = self.board.outcome()  \n",
    "          return"
   ]
  },
  {
   "cell_type": "code",
   "execution_count": null,
   "metadata": {},
   "outputs": [],
   "source": []
  }
 ],
 "metadata": {
  "kernelspec": {
   "display_name": "base",
   "language": "python",
   "name": "python3"
  },
  "language_info": {
   "codemirror_mode": {
    "name": "ipython",
    "version": 3
   },
   "file_extension": ".py",
   "mimetype": "text/x-python",
   "name": "python",
   "nbconvert_exporter": "python",
   "pygments_lexer": "ipython3",
   "version": "3.12.3"
  }
 },
 "nbformat": 4,
 "nbformat_minor": 2
}
